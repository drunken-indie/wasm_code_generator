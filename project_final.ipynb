{
 "cells": [
  {
   "cell_type": "code",
   "execution_count": 1,
   "metadata": {},
   "outputs": [
    {
     "name": "stdout",
     "output_type": "stream",
     "text": [
      "Importing Jupyter notebook from P0.ipynb\n",
      "Importing Jupyter notebook from SC.ipynb\n",
      "Importing Jupyter notebook from ST.ipynb\n"
     ]
    }
   ],
   "source": [
    "import nbimporter; nbimporter.options[\"only_defs\"] = False\n",
    "from P0 import compileString\n",
    "from ST import printSymTab\n",
    "\n",
    "def runpywasm(wasmfile):\n",
    "    import pywasm\n",
    "    def write(i): print(i)\n",
    "    def writeln(): print('\\n')\n",
    "    def read(): return int(input())\n",
    "    vm = pywasm.load(wasmfile, {'P0lib': {'write': write, 'writeln': writeln, 'read': read}})"
   ]
  },
  {
   "cell_type": "code",
   "execution_count": 2,
   "metadata": {},
   "outputs": [
    {
     "name": "stdout",
     "output_type": "stream",
     "text": [
      "Importing Jupyter notebook from CGwat.ipynb\n"
     ]
    }
   ],
   "source": [
    "import P0, SC\n",
    "\n",
    "P0.compileString(\"\"\"\n",
    "program p;\n",
    "  var x: integer;\n",
    "  begin\n",
    "    for x in [1, 3, 5, 7, 5, 2] do                  {writes 1,3,5}\n",
    "      begin write(x) end;\n",
    "    writeln()             {writes }\n",
    "  end\n",
    "\"\"\",'fortest1.wat', target = 'wat')"
   ]
  },
  {
   "cell_type": "code",
   "execution_count": 3,
   "metadata": {},
   "outputs": [],
   "source": [
    "!wat2wasm fortest1.wat"
   ]
  },
  {
   "cell_type": "code",
   "execution_count": 4,
   "metadata": {},
   "outputs": [
    {
     "name": "stdout",
     "output_type": "stream",
     "text": [
      "1\n",
      "3\n",
      "5\n",
      "7\n",
      "5\n",
      "2\n",
      "\n",
      "\n"
     ]
    }
   ],
   "source": [
    "runpywasm('fortest1.wasm')"
   ]
  },
  {
   "cell_type": "code",
   "execution_count": 5,
   "metadata": {},
   "outputs": [],
   "source": [
    "import P0, SC\n",
    "\n",
    "P0.compileString(\"\"\"\n",
    "program p;\n",
    "  var x, y: integer;\n",
    "  begin\n",
    "    for y in [1, 3, 5] do  \n",
    "        begin \n",
    "        for x in [2, 4, 6] do\n",
    "            begin write(x + y) end;         {writes 3, 5, 7, 5, 7, 9, 7, 9, 11}\n",
    "      write(y) end;      {writes 1, 3, 5}  \n",
    "    writeln()             {writes }\n",
    "  end\n",
    "\"\"\", 'fortest2.wat', target = 'wat')"
   ]
  },
  {
   "cell_type": "code",
   "execution_count": 6,
   "metadata": {},
   "outputs": [],
   "source": [
    "!wat2wasm fortest2.wat"
   ]
  },
  {
   "cell_type": "code",
   "execution_count": 7,
   "metadata": {
    "scrolled": false
   },
   "outputs": [
    {
     "name": "stdout",
     "output_type": "stream",
     "text": [
      "3\n",
      "5\n",
      "7\n",
      "1\n",
      "5\n",
      "7\n",
      "9\n",
      "3\n",
      "7\n",
      "9\n",
      "11\n",
      "5\n",
      "\n",
      "\n"
     ]
    }
   ],
   "source": [
    "runpywasm('fortest2.wasm')"
   ]
  },
  {
   "cell_type": "code",
   "execution_count": 8,
   "metadata": {},
   "outputs": [],
   "source": [
    "import P0, SC\n",
    "\n",
    "P0.compileString(\"\"\"\n",
    "program p;\n",
    "  var x : integer;\n",
    "  procedure q(v: integer);\n",
    "    begin \n",
    "        write(v)       {writes 1,3,5}\n",
    "    end;\n",
    "    begin\n",
    "        for x in [1, 3, 5] do\n",
    "            begin q(x) end;\n",
    "        writeln()\n",
    "    end\n",
    "\"\"\", 'fortest3.wat', target = 'wat')"
   ]
  },
  {
   "cell_type": "code",
   "execution_count": 9,
   "metadata": {},
   "outputs": [],
   "source": [
    "!wat2wasm fortest3.wat"
   ]
  },
  {
   "cell_type": "code",
   "execution_count": 10,
   "metadata": {},
   "outputs": [
    {
     "name": "stdout",
     "output_type": "stream",
     "text": [
      "1\n",
      "3\n",
      "5\n",
      "\n",
      "\n"
     ]
    }
   ],
   "source": [
    "runpywasm('fortest3.wasm')"
   ]
  },
  {
   "cell_type": "code",
   "execution_count": 11,
   "metadata": {},
   "outputs": [],
   "source": [
    "import P0, SC\n",
    "\n",
    "P0.compileString(\"\"\"\n",
    "program p;\n",
    "  var x: integer;\n",
    "  begin\n",
    "    for x := 3 to 8 do                  {writes 3, 4, 5, 6, 7, 8}\n",
    "      begin write(x) end;\n",
    "    writeln()             {writes }\n",
    "  end\n",
    "\"\"\",'fortest4.wat', target = 'wat')"
   ]
  },
  {
   "cell_type": "code",
   "execution_count": 12,
   "metadata": {},
   "outputs": [],
   "source": [
    "!wat2wasm fortest4.wat"
   ]
  },
  {
   "cell_type": "code",
   "execution_count": 13,
   "metadata": {},
   "outputs": [
    {
     "name": "stdout",
     "output_type": "stream",
     "text": [
      "3\n",
      "4\n",
      "5\n",
      "6\n",
      "7\n",
      "8\n",
      "\n",
      "\n"
     ]
    }
   ],
   "source": [
    "runpywasm('fortest4.wasm')"
   ]
  },
  {
   "cell_type": "code",
   "execution_count": 14,
   "metadata": {},
   "outputs": [],
   "source": [
    "import P0, SC\n",
    "\n",
    "P0.compileString(\"\"\"\n",
    "program p;\n",
    "  var x, y: integer;\n",
    "  begin\n",
    "    for y in [1, 3, 5] do  \n",
    "        begin \n",
    "        for x := 8 downto 6 do\n",
    "            begin write(x + y) end;         {writes 9, 8, 7, 11, 10, 9, 13, 12, 11}\n",
    "      write(y) end;      {writes 1, 3, 5}  \n",
    "    writeln()             {writes }\n",
    "  end\n",
    "\"\"\", 'fortest5.wat', target = 'wat')"
   ]
  },
  {
   "cell_type": "code",
   "execution_count": 15,
   "metadata": {},
   "outputs": [],
   "source": [
    "!wat2wasm fortest5.wat"
   ]
  },
  {
   "cell_type": "code",
   "execution_count": 16,
   "metadata": {},
   "outputs": [
    {
     "name": "stdout",
     "output_type": "stream",
     "text": [
      "9\n",
      "8\n",
      "7\n",
      "1\n",
      "11\n",
      "10\n",
      "9\n",
      "3\n",
      "13\n",
      "12\n",
      "11\n",
      "5\n",
      "\n",
      "\n"
     ]
    }
   ],
   "source": [
    "runpywasm('fortest5.wasm')"
   ]
  },
  {
   "cell_type": "code",
   "execution_count": 17,
   "metadata": {},
   "outputs": [],
   "source": [
    "import P0, SC\n",
    "\n",
    "P0.compileString(\"\"\"\n",
    "program p;\n",
    "  var x, y : integer;\n",
    "  procedure q(v: integer);\n",
    "    begin \n",
    "        write(v)       {writes 9, 8, 7, 11, 10, 9, 13, 12, 11}\n",
    "    end;\n",
    "    begin\n",
    "        for x in [1, 3, 5] do\n",
    "            begin\n",
    "            for y := 8 downto 6 do\n",
    "                begin q(x+y) end;  \n",
    "            writeln() end;\n",
    "        writeln()\n",
    "    end\n",
    "\"\"\", 'fortest6.wat', target = 'wat')"
   ]
  },
  {
   "cell_type": "code",
   "execution_count": 18,
   "metadata": {},
   "outputs": [],
   "source": [
    "!wat2wasm fortest6.wat"
   ]
  },
  {
   "cell_type": "code",
   "execution_count": 19,
   "metadata": {},
   "outputs": [
    {
     "name": "stdout",
     "output_type": "stream",
     "text": [
      "9\n",
      "8\n",
      "7\n",
      "\n",
      "\n",
      "11\n",
      "10\n",
      "9\n",
      "\n",
      "\n",
      "13\n",
      "12\n",
      "11\n",
      "\n",
      "\n",
      "\n",
      "\n"
     ]
    }
   ],
   "source": [
    "runpywasm('fortest6.wasm')"
   ]
  },
  {
   "cell_type": "code",
   "execution_count": 20,
   "metadata": {},
   "outputs": [],
   "source": [
    "import P0, SC\n",
    "\n",
    "P0.compileString(\"\"\"\n",
    "program p;\n",
    "  var x, y: integer;\n",
    "  begin\n",
    "    x := 7;\n",
    "    case x of 3,5 : begin write(x) end; 2,4 : begin write(x) end else begin write(x+2); end ; end  {writes 9}\n",
    "  end\n",
    "\"\"\", 'casetest1.wat', target = 'wat')"
   ]
  },
  {
   "cell_type": "code",
   "execution_count": 21,
   "metadata": {},
   "outputs": [],
   "source": [
    "!wat2wasm casetest1.wat"
   ]
  },
  {
   "cell_type": "code",
   "execution_count": 22,
   "metadata": {},
   "outputs": [
    {
     "name": "stdout",
     "output_type": "stream",
     "text": [
      "9\n"
     ]
    }
   ],
   "source": [
    "runpywasm('casetest1.wasm')"
   ]
  },
  {
   "cell_type": "code",
   "execution_count": 23,
   "metadata": {},
   "outputs": [],
   "source": [
    "import P0, SC\n",
    "\n",
    "P0.compileString(\"\"\"\n",
    "program p;\n",
    "  var x, y: integer;\n",
    "  var z : boolean;\n",
    "  begin\n",
    "    for x in [1, 3, 5] do \n",
    "        begin\n",
    "        z := x > 0;\n",
    "        case z of true : begin write(x) end; false : begin write(x) end else begin write(x+2); end ; end; {write 1, 3, 5}\n",
    "        end;\n",
    "      begin writeln() end;\n",
    "    writeln()             {writes }\n",
    "  end\n",
    "\"\"\", 'casetest2.wat',target = 'wat')"
   ]
  },
  {
   "cell_type": "code",
   "execution_count": 24,
   "metadata": {},
   "outputs": [],
   "source": [
    "!wat2wasm casetest2.wat"
   ]
  },
  {
   "cell_type": "code",
   "execution_count": 25,
   "metadata": {},
   "outputs": [
    {
     "name": "stdout",
     "output_type": "stream",
     "text": [
      "1\n",
      "3\n",
      "5\n",
      "\n",
      "\n",
      "\n",
      "\n"
     ]
    }
   ],
   "source": [
    "runpywasm('casetest2.wasm')"
   ]
  },
  {
   "cell_type": "code",
   "execution_count": 26,
   "metadata": {
    "scrolled": true
   },
   "outputs": [],
   "source": [
    "import P0, SC\n",
    "\n",
    "P0.compileString(\"\"\"\n",
    "program p;\n",
    "  var x : integer;\n",
    "  var z : boolean;\n",
    "  procedure a(v: integer);\n",
    "    begin \n",
    "        write(v)       {writes 3}\n",
    "    end;\n",
    "  procedure b(w: integer);\n",
    "    begin \n",
    "        write(w+5)       {writes 6, 10}\n",
    "    end;  \n",
    "    \n",
    "    begin\n",
    "        for x in [1, 3, 5] do \n",
    "           begin\n",
    "             z := x = 3;\n",
    "             case z of true : begin a(x) end; false : begin b(x) end else begin a(x+2); end ; end; {write 1, 3, 5}\n",
    "           end;\n",
    "        begin writeln() end;\n",
    "    end\n",
    "\"\"\", 'casetest3.wat', target = 'wat')"
   ]
  },
  {
   "cell_type": "code",
   "execution_count": 27,
   "metadata": {},
   "outputs": [],
   "source": [
    "!wat2wasm casetest3.wat"
   ]
  },
  {
   "cell_type": "code",
   "execution_count": 28,
   "metadata": {},
   "outputs": [
    {
     "name": "stdout",
     "output_type": "stream",
     "text": [
      "6\n",
      "3\n",
      "10\n",
      "\n",
      "\n"
     ]
    }
   ],
   "source": [
    "runpywasm('casetest3.wasm')"
   ]
  },
  {
   "cell_type": "code",
   "execution_count": null,
   "metadata": {},
   "outputs": [],
   "source": []
  }
 ],
 "metadata": {
  "kernelspec": {
   "display_name": "Python 3",
   "language": "python",
   "name": "python3"
  },
  "language_info": {
   "codemirror_mode": {
    "name": "ipython",
    "version": 3
   },
   "file_extension": ".py",
   "mimetype": "text/x-python",
   "name": "python",
   "nbconvert_exporter": "python",
   "pygments_lexer": "ipython3",
   "version": "3.7.2"
  }
 },
 "nbformat": 4,
 "nbformat_minor": 2
}
