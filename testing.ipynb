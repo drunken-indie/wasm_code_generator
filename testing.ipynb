{
 "cells": [
  {
   "cell_type": "code",
   "execution_count": 4,
   "metadata": {},
   "outputs": [],
   "source": [
    "def runwasm(wasmfile):\n",
    "    from IPython.core.display import display, Javascript\n",
    "    display(Javascript(\"\"\"\n",
    "    const params = { \n",
    "        P0lib: { \n",
    "            write: i => this.append_stream({text: '' + i, name: 'stdout'}),\n",
    "            writeln: () => this.append_stream({text: '\\\\n', name: 'stdout'}),\n",
    "            read: () => window.prompt()\n",
    "        }\n",
    "    }\n",
    "\n",
    "    fetch('\"\"\" + wasmfile + \"\"\"') // asynchronously fetch file, return Response object\n",
    "      .then(response => response.arrayBuffer()) // read the response to completion and stores it in an ArrayBuffer\n",
    "      .then(code => WebAssembly.compile(code)) // compile (sharable) code.wasm\n",
    "      .then(module => WebAssembly.instantiate(module, params)) // create an instance with memory\n",
    "    // .then(instance => instance.exports.program()); // run the main program; not needed if start function specified\n",
    "    \"\"\"))\n"
   ]
  },
  {
   "cell_type": "code",
   "execution_count": 11,
   "metadata": {},
   "outputs": [
    {
     "name": "stdout",
     "output_type": "stream",
     "text": [
      "Overwriting test.wat\n"
     ]
    }
   ],
   "source": [
    "%%writefile test.wat\n",
    "\n",
    "(module\n",
    "(import \"P0lib\" \"write\" (func $write (param i32)))\n",
    "(import \"P0lib\" \"writeln\" (func $writeln))\n",
    "(import \"P0lib\" \"read\" (func $read (result i32)))\n",
    "(global $x (mut i32) i32.const 0)\n",
    "(func $program\n",
    "(local $counter_0 i32)\n",
    "(local $else_0 i32)\n",
    "i32.const 3\n",
    "global.set $x\n",
    "i32.const 1\n",
    "local.set $else_0\n",
    "i32.const 0\n",
    "i32.const 3\n",
    "i32.store\n",
    "i32.const 0\n",
    "local.set $counter_0\n",
    "loop\n",
    "local.get $counter_0\n",
    "i32.const 1\n",
    "i32.lt_s\n",
    "if\n",
    "local.get $counter_0\n",
    "i32.const 4\n",
    "i32.mul\n",
    "i32.const 0\n",
    "i32.add\n",
    "i32.load\n",
    "global.get $x\n",
    "i32.eq\n",
    "if\n",
    "i32.const 0\n",
    "local.set $else_0\n",
    "call $writeln\n",
    "end\n",
    "local.get $counter_0\n",
    "i32.const 1\n",
    "i32.add\n",
    "local.set $counter_0\n",
    "br 1\n",
    "end\n",
    "end\n",
    "i32.const 4\n",
    "i32.const 2\n",
    "i32.store\n",
    "i32.const 0\n",
    "local.set $counter_0\n",
    "loop\n",
    "local.get $counter_0\n",
    "i32.const 1\n",
    "i32.lt_s\n",
    "if\n",
    "local.get $counter_0\n",
    "i32.const 4\n",
    "i32.mul\n",
    "i32.const 4\n",
    "i32.add\n",
    "i32.load\n",
    "global.get $x\n",
    "i32.eq\n",
    "if\n",
    "i32.const 0\n",
    "local.set $else_0\n",
    "call $writeln\n",
    "end\n",
    "local.get $counter_0\n",
    "i32.const 1\n",
    "i32.add\n",
    "local.set $counter_0\n",
    "br 1\n",
    "end\n",
    "end\n",
    "local.get $else_0\n",
    "i32.const 1\n",
    "i32.eq\n",
    "if\n",
    "global.get $x\n",
    "call $write\n",
    "end\n",
    ")\n",
    "(memory 1)\n",
    "(start $program)\n",
    ")"
   ]
  },
  {
   "cell_type": "code",
   "execution_count": 12,
   "metadata": {},
   "outputs": [],
   "source": [
    "!wat2wasm test.wat"
   ]
  },
  {
   "cell_type": "code",
   "execution_count": 13,
   "metadata": {},
   "outputs": [
    {
     "data": {
      "application/javascript": [
       "\n",
       "    const params = { \n",
       "        P0lib: { \n",
       "            write: i => this.append_stream({text: '' + i, name: 'stdout'}),\n",
       "            writeln: () => this.append_stream({text: '\\n', name: 'stdout'}),\n",
       "            read: () => window.prompt()\n",
       "        }\n",
       "    }\n",
       "\n",
       "    fetch('test.wasm') // asynchronously fetch file, return Response object\n",
       "      .then(response => response.arrayBuffer()) // read the response to completion and stores it in an ArrayBuffer\n",
       "      .then(code => WebAssembly.compile(code)) // compile (sharable) code.wasm\n",
       "      .then(module => WebAssembly.instantiate(module, params)) // create an instance with memory\n",
       "    // .then(instance => instance.exports.program()); // run the main program; not needed if start function specified\n",
       "    "
      ],
      "text/plain": [
       "<IPython.core.display.Javascript object>"
      ]
     },
     "metadata": {},
     "output_type": "display_data"
    }
   ],
   "source": [
    "runwasm(\"test.wasm\")"
   ]
  },
  {
   "cell_type": "code",
   "execution_count": null,
   "metadata": {},
   "outputs": [],
   "source": []
  }
 ],
 "metadata": {
  "kernelspec": {
   "display_name": "Python 3",
   "language": "python",
   "name": "python3"
  },
  "language_info": {
   "codemirror_mode": {
    "name": "ipython",
    "version": 3
   },
   "file_extension": ".py",
   "mimetype": "text/x-python",
   "name": "python",
   "nbconvert_exporter": "python",
   "pygments_lexer": "ipython3",
   "version": "3.7.2"
  }
 },
 "nbformat": 4,
 "nbformat_minor": 2
}
